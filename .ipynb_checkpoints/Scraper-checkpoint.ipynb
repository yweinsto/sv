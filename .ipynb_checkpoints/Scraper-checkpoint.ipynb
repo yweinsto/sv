{
 "cells": [
  {
   "cell_type": "code",
   "execution_count": 2,
   "metadata": {
    "collapsed": false
   },
   "outputs": [],
   "source": [
    "from bs4 import BeautifulSoup\n",
    "import requests\n",
    "import re\n",
    "import js2xml"
   ]
  },
  {
   "cell_type": "code",
   "execution_count": null,
   "metadata": {
    "collapsed": true
   },
   "outputs": [],
   "source": [
    "def dateObj2Date(date):\n",
    "    "
   ]
  },
  {
   "cell_type": "code",
   "execution_count": 92,
   "metadata": {
    "collapsed": false,
    "scrolled": true
   },
   "outputs": [
    {
     "name": "stdout",
     "output_type": "stream",
     "text": [
      "-----\n",
      "yyyy =>  2014 : mm =>  8 : dd =>  1 : price =>  59\n",
      "-----\n",
      "yyyy =>  2014 : mm =>  9 : dd =>  1 : price =>  59\n",
      "-----\n",
      "yyyy =>  2014 : mm =>  10 : dd =>  1 : price =>  60\n",
      "-----\n",
      "yyyy =>  2014 : mm =>  11 : dd =>  1 : price =>  59\n",
      "-----\n",
      "yyyy =>  2015 : mm =>  0 : dd =>  1 : price =>  60\n",
      "-----\n",
      "yyyy =>  2015 : mm =>  1 : dd =>  1 : price =>  60\n",
      "-----\n",
      "yyyy =>  2015 : mm =>  2 : dd =>  1 : price =>  61\n",
      "-----\n",
      "yyyy =>  2015 : mm =>  3 : dd =>  1 : price =>  62\n",
      "-----\n",
      "yyyy =>  2015 : mm =>  4 : dd =>  1 : price =>  61\n",
      "-----\n",
      "yyyy =>  2015 : mm =>  5 : dd =>  1 : price =>  61\n",
      "-----\n",
      "yyyy =>  2015 : mm =>  6 : dd =>  1 : price =>  62\n",
      "-----\n",
      "yyyy =>  2015 : mm =>  7 : dd =>  1 : price =>  60\n",
      "-----\n",
      "yyyy =>  2015 : mm =>  8 : dd =>  1 : price =>  61\n",
      "-----\n",
      "yyyy =>  2015 : mm =>  9 : dd =>  1 : price =>  60\n",
      "-----\n",
      "yyyy =>  2015 : mm =>  10 : dd =>  1 : price =>  61\n",
      "-----\n",
      "yyyy =>  2015 : mm =>  11 : dd =>  1 : price =>  62\n",
      "-----\n",
      "yyyy =>  2016 : mm =>  0 : dd =>  1 : price =>  60\n",
      "-----\n",
      "yyyy =>  2016 : mm =>  1 : dd =>  1 : price =>  61\n",
      "-----\n",
      "yyyy =>  2016 : mm =>  2 : dd =>  1 : price =>  62\n",
      "-----\n",
      "yyyy =>  2016 : mm =>  3 : dd =>  1 : price =>  61\n",
      "-----\n",
      "yyyy =>  2016 : mm =>  4 : dd =>  1 : price =>  61\n",
      "-----\n",
      "yyyy =>  2016 : mm =>  5 : dd =>  1 : price =>  62\n",
      "-----\n",
      "yyyy =>  2016 : mm =>  6 : dd =>  1 : price =>  63\n",
      "-----\n",
      "yyyy =>  2016 : mm =>  7 : dd =>  1 : price =>  62\n"
     ]
    }
   ],
   "source": [
    "url = \"http://www.wine-searcher.com/market-78123-0000\"\n",
    "headers = {'User-Agent': 'Mozilla/5.0 (Macintosh; Intel Mac OS X 10_10_1) AppleWebKit/537.36 (KHTML, like Gecko) Chrome/39.0.2171.95 Safari/537.36'}\n",
    "req = requests.get(url, headers=headers)\n",
    "page = req.text\n",
    "soup = BeautifulSoup(page, \"lxml\")\n",
    "scripts = soup.find_all(\"script\")\n",
    "regex = r'arrChart = ([^\";]+)'\n",
    "pattern = re.compile(regex)\n",
    "\n",
    "for script in scripts:\n",
    "    #print(script.string)\n",
    "    if(pattern.search(str(script.string))):\n",
    "        lines = pattern.findall(script.string)\n",
    "        #print (data)\n",
    "        for line in lines:\n",
    "            #data = line.split(',')\n",
    "            line = line.replace(\"Date.UTC(\",\"\")\n",
    "            line = line.replace(\")\",\"\")\n",
    "            data = eval(line)\n",
    "            for d in data:\n",
    "                print(\"-----\")\n",
    "                [yyyy,mm,dd,price] = d\n",
    "                print (\"yyyy => \", yyyy, \": mm => \", mm, \": dd => \", dd, \": price => \", price)"
   ]
  },
  {
   "cell_type": "code",
   "execution_count": null,
   "metadata": {
    "collapsed": true
   },
   "outputs": [],
   "source": [
    "\n"
   ]
  }
 ],
 "metadata": {
  "kernelspec": {
   "display_name": "Python [Root]",
   "language": "python",
   "name": "Python [Root]"
  },
  "language_info": {
   "codemirror_mode": {
    "name": "ipython",
    "version": 3
   },
   "file_extension": ".py",
   "mimetype": "text/x-python",
   "name": "python",
   "nbconvert_exporter": "python",
   "pygments_lexer": "ipython3",
   "version": "3.5.2"
  }
 },
 "nbformat": 4,
 "nbformat_minor": 0
}
